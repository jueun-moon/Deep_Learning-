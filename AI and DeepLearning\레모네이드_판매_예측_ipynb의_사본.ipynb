{
  "nbformat": 4,
  "nbformat_minor": 0,
  "metadata": {
    "colab": {
      "name": "레모네이드 판매 예측.ipynb의 사본",
      "provenance": [],
      "collapsed_sections": [],
      "include_colab_link": true
    },
    "kernelspec": {
      "name": "python3",
      "display_name": "Python 3"
    }
  },
  "cells": [
    {
      "cell_type": "markdown",
      "metadata": {
        "id": "view-in-github",
        "colab_type": "text"
      },
      "source": [
        "<a href=\"https://colab.research.google.com/github/jueun-moon/Deep_Learning-/blob/main/%EB%A0%88%EB%AA%A8%EB%84%A4%EC%9D%B4%EB%93%9C_%ED%8C%90%EB%A7%A4_%EC%98%88%EC%B8%A1_ipynb%EC%9D%98_%EC%82%AC%EB%B3%B8.ipynb\" target=\"_parent\"><img src=\"https://colab.research.google.com/assets/colab-badge.svg\" alt=\"Open In Colab\"/></a>"
      ]
    },
    {
      "cell_type": "markdown",
      "metadata": {
        "id": "bniE7Q0Guveg"
      },
      "source": [
        "# 레모네이드 판매 예측\n",
        "- github csv url: https://raw.githubusercontent.com/blackdew/tensorflow1/master/csv/lemonade.csv "
      ]
    },
    {
      "cell_type": "code",
      "metadata": {
        "id": "nEEBKLL6ZHZe"
      },
      "source": [
        "# 라이브러리 사용\n",
        "import tensorflow as tf\n",
        "import pandas as pd"
      ],
      "execution_count": null,
      "outputs": []
    },
    {
      "cell_type": "code",
      "metadata": {
        "id": "0E37C29d3BDl",
        "colab": {
          "base_uri": "https://localhost:8080/"
        },
        "outputId": "e184ab1e-221d-4934-acd9-8646b2bf9fad"
      },
      "source": [
        "# 데이터를 준비합니다.\n",
        "파일경로 = 'https://raw.githubusercontent.com/blackdew/tensorflow1/master/csv/lemonade.csv'\n",
        "레모네이드 = pd.read_csv(파일경로)\n",
        "print(레모네이드)\n",
        "#레모네이드.head()"
      ],
      "execution_count": null,
      "outputs": [
        {
          "output_type": "stream",
          "text": [
            "   온도  판매량\n",
            "0  20   40\n",
            "1  21   42\n",
            "2  22   44\n",
            "3  23   46\n",
            "4  24   48\n",
            "5  25   50\n"
          ],
          "name": "stdout"
        }
      ]
    },
    {
      "cell_type": "code",
      "metadata": {
        "id": "i5eCfPsAu1BQ",
        "colab": {
          "base_uri": "https://localhost:8080/"
        },
        "outputId": "42c5b96c-5058-4c9e-db2a-1008f9d2fced"
      },
      "source": [
        "# 종속변수, 독립변수\n",
        "독립 = 레모네이드[['온도']]\n",
        "종속 = 레모네이드[['판매량']]\n",
        "print(독립.shape, 종속.shape)"
      ],
      "execution_count": null,
      "outputs": [
        {
          "output_type": "stream",
          "text": [
            "(6, 1) (6, 1)\n"
          ],
          "name": "stdout"
        }
      ]
    },
    {
      "cell_type": "code",
      "metadata": {
        "id": "X-Q2Wp6qZFaR"
      },
      "source": [
        "# 모델을 만듭니다.\n",
        "X = tf.keras.layers.Input(shape=[1])\n",
        "Y = tf.keras.layers.Dense(1)(X)\n",
        "model = tf.keras.models.Model(X,Y)\n",
        "model.compile(loss='mse') # mse = (실제값 - 예측값)^2 의 평균"
      ],
      "execution_count": null,
      "outputs": []
    },
    {
      "cell_type": "code",
      "metadata": {
        "id": "gqpGZZ6YZMTB",
        "colab": {
          "base_uri": "https://localhost:8080/"
        },
        "outputId": "c53125b1-f3b6-491e-ebdb-6fbb2932afc7"
      },
      "source": [
        "# 모델을 학습시킵니다. \n",
        "model.fit(독립, 종속, epochs=10)"
      ],
      "execution_count": null,
      "outputs": [
        {
          "output_type": "stream",
          "text": [
            "Epoch 1/10\n",
            "1/1 [==============================] - 0s 490ms/step - loss: 4175.9048\n",
            "Epoch 2/10\n",
            "1/1 [==============================] - 0s 5ms/step - loss: 4166.2808\n",
            "Epoch 3/10\n",
            "1/1 [==============================] - 0s 4ms/step - loss: 4159.3091\n",
            "Epoch 4/10\n",
            "1/1 [==============================] - 0s 4ms/step - loss: 4153.4785\n",
            "Epoch 5/10\n",
            "1/1 [==============================] - 0s 5ms/step - loss: 4148.3071\n",
            "Epoch 6/10\n",
            "1/1 [==============================] - 0s 2ms/step - loss: 4143.5713\n",
            "Epoch 7/10\n",
            "1/1 [==============================] - 0s 5ms/step - loss: 4139.1479\n",
            "Epoch 8/10\n",
            "1/1 [==============================] - 0s 6ms/step - loss: 4134.9585\n",
            "Epoch 9/10\n",
            "1/1 [==============================] - 0s 5ms/step - loss: 4130.9512\n",
            "Epoch 10/10\n",
            "1/1 [==============================] - 0s 3ms/step - loss: 4127.0894\n"
          ],
          "name": "stdout"
        },
        {
          "output_type": "execute_result",
          "data": {
            "text/plain": [
              "<tensorflow.python.keras.callbacks.History at 0x7fea53a07748>"
            ]
          },
          "metadata": {
            "tags": []
          },
          "execution_count": 7
        }
      ]
    },
    {
      "cell_type": "code",
      "metadata": {
        "id": "1q_JDxkSZPaz",
        "colab": {
          "base_uri": "https://localhost:8080/"
        },
        "outputId": "21bb1d65-691c-4754-ed61-1b4db891f9d5"
      },
      "source": [
        "# 모델을 이용합니다. \n",
        "print(model.predict(독립))"
      ],
      "execution_count": null,
      "outputs": [
        {
          "output_type": "stream",
          "text": [
            "[[-16.912752]\n",
            " [-17.759256]\n",
            " [-18.605759]\n",
            " [-19.452263]\n",
            " [-20.298767]\n",
            " [-21.14527 ]]\n"
          ],
          "name": "stdout"
        }
      ]
    },
    {
      "cell_type": "code",
      "metadata": {
        "id": "0r8FuFfaVbGH",
        "colab": {
          "base_uri": "https://localhost:8080/"
        },
        "outputId": "d860d763-478f-45b0-a055-00113cf8ce44"
      },
      "source": [
        "print(model.predict([[15]]))"
      ],
      "execution_count": null,
      "outputs": [
        {
          "output_type": "stream",
          "text": [
            "[[-12.680237]]\n"
          ],
          "name": "stdout"
        }
      ]
    },
    {
      "cell_type": "code",
      "metadata": {
        "id": "-59ehF1ewCL0"
      },
      "source": [
        ""
      ],
      "execution_count": null,
      "outputs": []
    }
  ]
}
